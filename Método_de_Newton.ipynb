{
  "nbformat": 4,
  "nbformat_minor": 0,
  "metadata": {
    "colab": {
      "provenance": [],
      "authorship_tag": "ABX9TyN/Fk/6blxuN0+qdDvwnzO9",
      "include_colab_link": true
    },
    "kernelspec": {
      "name": "python3",
      "display_name": "Python 3"
    },
    "language_info": {
      "name": "python"
    }
  },
  "cells": [
    {
      "cell_type": "markdown",
      "metadata": {
        "id": "view-in-github",
        "colab_type": "text"
      },
      "source": [
        "<a href=\"https://colab.research.google.com/github/Israel-San-Agustin/METODOS-NUMERICOS-/blob/main/M%C3%A9todo_de_Newton.ipynb\" target=\"_parent\"><img src=\"https://colab.research.google.com/assets/colab-badge.svg\" alt=\"Open In Colab\"/></a>"
      ]
    },
    {
      "cell_type": "markdown",
      "source": [
        "# Use el Método de Newton-Raphson para determinar una solucion exactadentro de $10^{-2}$ para $x^3-x-1=0$. $Use P_0=1 $"
      ],
      "metadata": {
        "id": "8K2gMqBwv8Lb"
      }
    },
    {
      "cell_type": "code",
      "source": [
        "from math import *\n",
        "import numpy as np #contiene vectores ordenados\n",
        "import matplotlib . pyplot as plt # es para graficar"
      ],
      "metadata": {
        "id": "y5kV23ajwYo1"
      },
      "execution_count": 1,
      "outputs": []
    },
    {
      "cell_type": "markdown",
      "source": [
        "Definimos la funcion $x^3-x-1=0$"
      ],
      "metadata": {
        "id": "jHfO4moswhCf"
      }
    },
    {
      "cell_type": "code",
      "source": [
        "def f(x): #funcion f(x)\n",
        "    return x**(3) - x - 1  #Funcion original"
      ],
      "metadata": {
        "id": "gvD5oL-qwbtL"
      },
      "execution_count": 4,
      "outputs": []
    },
    {
      "cell_type": "markdown",
      "source": [
        "Derivamos la funcion que es $f'(x)=3x^2-1$\n",
        "por lo tanto"
      ],
      "metadata": {
        "id": "o2_OllMa1HL0"
      }
    },
    {
      "cell_type": "code",
      "source": [
        "def fd(x): #funcion f'(x)\n",
        "    return 3*x**2 - 1 #Funcion Derivada"
      ],
      "metadata": {
        "id": "BLoobxAN163A"
      },
      "execution_count": 5,
      "outputs": []
    },
    {
      "cell_type": "code",
      "source": [
        "# Definimos el espacio de x para graficar\n",
        "x = np.linspace(0, 5, 100)"
      ],
      "metadata": {
        "id": "t-yiXgjS2SK7"
      },
      "execution_count": 6,
      "outputs": []
    },
    {
      "cell_type": "code",
      "source": [
        "# Graficamos f(x)\n",
        "plt.plot(f(x), color=\"red\")\n",
        "# Graficamos la derivada de f(x)\n",
        "plt.plot(fd(x), color=\"blue\")\n",
        "plt.axhline(0, color=\"black\")\n",
        "plt.axvline(0, color=\"black\")\n",
        "plt.legend()\n",
        "plt.grid()\n",
        "plt.show()"
      ],
      "metadata": {
        "colab": {
          "base_uri": "https://localhost:8080/",
          "height": 467
        },
        "id": "uu1WqmtM2WFo",
        "outputId": "3246b115-04a7-42af-dae3-ad4b191d2137"
      },
      "execution_count": 20,
      "outputs": [
        {
          "output_type": "stream",
          "name": "stderr",
          "text": [
            "WARNING:matplotlib.legend:No artists with labels found to put in legend.  Note that artists whose label start with an underscore are ignored when legend() is called with no argument.\n"
          ]
        },
        {
          "output_type": "display_data",
          "data": {
            "text/plain": [
              "<Figure size 640x480 with 1 Axes>"
            ],
            "image/png": "[encoded data removed]"
          },
          "metadata": {}
        }
      ]
    },
    {
      "cell_type": "code",
      "source": [
        "# Ingreso de los valores iniciales\n",
        "P0 = 1  # Valor inicial\n",
        "Tol = 10**(-2)  # Tolerancia\n",
        "Nmax = 100  # Número máximo de iteraciones\n",
        "error = 100  # Inicializamos un error grande\n",
        "niter = 0  # Inicializamos el contador de iteraciones"
      ],
      "metadata": {
        "id": "q29yyWhw2il4"
      },
      "execution_count": 12,
      "outputs": []
    },
    {
      "cell_type": "code",
      "source": [
        "# Ciclo iterativo del método de Newton\n",
        "print(\"# iter\\t\\t Pn \\t\\t f(Pn) \\t\\t error\")  # Encabezados de las columnas para mostrar la iteración actual,\n",
        "\n",
        "while error > Tol and niter < Nmax:\n",
        "    Pn = P0 - f(P0)/fd(P0)  # Fórmula del método de Newton: Pn = P0 - f(P0) / f'(P0)\n",
        "\n",
        "    error = abs(Pn - P0)  # Calcula el error como la diferencia absoluta entre el nuevo valor Pn y el anterior P0\n",
        "\n",
        "# Imprimir los resultados de cada iteración\n",
        "    print(\"{0} \\t\\t {1:6.6f} \\t {2:6.6f} \\t {3:6.6f}\".format(niter, P0, Pn, error))\n",
        "\n",
        "    # Actualizamos el valor de P0 y el contador de iteraciones\n",
        "    P0 = Pn\n",
        "    niter += 1\n",
        "\n",
        "    # Imprime el resultado final\n",
        "print(\"La solución aproximada utilizando el método de Newton es P = {0:6.6f} con un error de {1:6.6f}\".format(P0, error))"
      ],
      "metadata": {
        "colab": {
          "base_uri": "https://localhost:8080/"
        },
        "id": "6YoApqCV2wlG",
        "outputId": "89ca625b-9045-471d-ea0b-44be1ded2797"
      },
      "execution_count": 14,
      "outputs": [
        {
          "output_type": "stream",
          "name": "stdout",
          "text": [
            "# iter\t\t Pn \t\t f(Pn) \t\t error\n",
            "0 \t\t 1.000000 \t 1.500000 \t 0.500000\n",
            "1 \t\t 1.500000 \t 1.347826 \t 0.152174\n",
            "2 \t\t 1.347826 \t 1.325200 \t 0.022626\n",
            "3 \t\t 1.325200 \t 1.324718 \t 0.000482\n",
            "La solución aproximada utilizando el método de Newton es P = 1.324718 con un error de 0.000482\n"
          ]
        }
      ]
    }
  ]
}