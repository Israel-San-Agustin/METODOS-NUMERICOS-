{
  "nbformat": 4,
  "nbformat_minor": 0,
  "metadata": {
    "colab": {
      "provenance": [],
      "authorship_tag": "ABX9TyPJ9exW7BiiNje8XjCkiiPu",
      "include_colab_link": true
    },
    "kernelspec": {
      "name": "python3",
      "display_name": "Python 3"
    },
    "language_info": {
      "name": "python"
    }
  },
  "cells": [
    {
      "cell_type": "markdown",
      "metadata": {
        "id": "view-in-github",
        "colab_type": "text"
      },
      "source": [
        "<a href=\"https://colab.research.google.com/github/Israel-San-Agustin/METODOS-NUMERICOS-/blob/main/M%C3%A9todo_de_Steffensen_.ipynb\" target=\"_parent\"><img src=\"https://colab.research.google.com/assets/colab-badge.svg\" alt=\"Open In Colab\"/></a>"
      ]
    },
    {
      "cell_type": "markdown",
      "source": [
        "# Escribir un programa en Python que implemente el método de Steffensen (modificación del método de Aitken) para resolver ecuaciones no lineales. Como prueba, resuelva la ecuación $f(x) = cos(x) - 2x + 3 = 0 $con una precisión de $0.00001.$"
      ],
      "metadata": {
        "id": "bS_5Nrg3TUeQ"
      }
    },
    {
      "cell_type": "code",
      "source": [
        "from math import *\n",
        "import numpy as np #contiene vectores ordenados\n",
        "import matplotlib . pyplot as plt # es para graficar"
      ],
      "metadata": {
        "id": "Gb3bsxn1Tn_x"
      },
      "execution_count": 150,
      "outputs": []
    },
    {
      "cell_type": "markdown",
      "source": [
        "Dada la funcion $f(x) = cos(x) - 2x + 3 = 0$"
      ],
      "metadata": {
        "id": "JfsaqUrPG2Y_"
      }
    },
    {
      "cell_type": "code",
      "source": [
        "def f(x): #funcion f(x)\n",
        "    return np.cos(x) - 2*x + 3  #original original"
      ],
      "metadata": {
        "id": "Xf3B9w35Gwx_"
      },
      "execution_count": 151,
      "outputs": []
    },
    {
      "cell_type": "markdown",
      "source": [
        "Transformamos la funcion $f(x)$\n",
        "\n",
        " a $2x= cos(x) + 3x $\n",
        "\n",
        " $x=(cos(x) + 3x)/2$"
      ],
      "metadata": {
        "id": "C_3x41VpePsS"
      }
    },
    {
      "cell_type": "code",
      "source": [
        "def t(x): #funcion t(x)\n",
        "    return (np.cos(x) + 3)/2 #transformada"
      ],
      "metadata": {
        "id": "q6rKjD4Le5hO"
      },
      "execution_count": 172,
      "outputs": []
    },
    {
      "cell_type": "code",
      "source": [
        "# Ingreso de los alores iniciales\n",
        "P0=1 #valor inicial\n",
        "Tol=10**(-5) #tolerancia\n",
        "Nmax=16 #numero maximo de intterracciones\n",
        "error = 100  # Inicializamos un error grande\n",
        "niter = 0  # Inicializamos el contador de iteraciones"
      ],
      "metadata": {
        "id": "sCiZBVmwfS6U"
      },
      "execution_count": 157,
      "outputs": []
    },
    {
      "cell_type": "code",
      "source": [
        "#Metodo de steffensen\n",
        "# # Imprime los encabezados de la tabla\n",
        "print(\"# iter\\t\\t Xn \\t\\t Xn+1 \\t\\t αn \\t\\t Error\")\n",
        "\n",
        "for niter in range(Nmax + 1):\n",
        "    # Calcular Xn+1 usando la función\n",
        "    Xn1 = t(P0)\n",
        "    # Calcular Xn+2 para usar en el cálculo de αn\n",
        "    Xn2 = t(Xn1)\n",
        "\n",
        "  # Calcula el error como la diferencia absoluta entre el nuevo valor Xn+1 y el anterior P0\n",
        "    error = abs(Xn1 - P0)\n",
        "\n",
        "   # Calcular αn usando la fórmula de Steffensen\n",
        "    if niter == 0:\n",
        "        alpha_n = 0\n",
        "    elif niter < Nmax:  # Corrección: if niter < nmax\n",
        "        alpha_n = Xn2 - ((Xn1 - P0) ** 2 / (Xn2 - 2 * Xn1 + P0))\n",
        "    else:\n",
        "        alpha_n = 0  # No se calcula αn en la última iteración\n",
        "\n",
        "   # Imprimir los resultados de la iteración actual\n",
        "    print(\"{0}\\t\\t {1:6.6f} \\t {2:6.6f} \\t {3:6.6f} \\t {4:6.6f}\".format(niter, P0, Xn1, alpha_n, error))\n",
        "\n",
        " # Actualiza el valor de P0\n",
        "    P0 = Xn1\n",
        "\n",
        "# # Imprime el resultado final, mostrando la solución aproximada y el error asociado\n",
        "print(\"\\nLa raíz aproximada de la función es: {0:6.6f}\".format(P0))\n",
        "print(\"Con un error de: {0:6.6f}\".format(error))"
      ],
      "metadata": {
        "colab": {
          "base_uri": "https://localhost:8080/"
        },
        "id": "8DOb72H9Nogv",
        "outputId": "6369b927-72b8-4d4c-95ca-afcb6edfb59a"
      },
      "execution_count": 158,
      "outputs": [
        {
          "output_type": "stream",
          "name": "stdout",
          "text": [
            "# iter\t\t Xn \t\t Xn+1 \t\t αn \t\t Error\n",
            "0\t\t 1.000000 \t 1.770151 \t 0.000000 \t 0.770151\n",
            "1\t\t 1.770151 \t 1.400982 \t 1.337912 \t 0.369170\n",
            "2\t\t 1.400982 \t 1.584500 \t 1.615675 \t 0.183518\n",
            "3\t\t 1.584500 \t 1.493148 \t 1.477867 \t 0.091351\n",
            "4\t\t 1.493148 \t 1.538785 \t 1.546443 \t 0.045637\n",
            "5\t\t 1.538785 \t 1.516003 \t 1.512190 \t 0.022782\n",
            "6\t\t 1.516003 \t 1.527383 \t 1.529290 \t 0.011380\n",
            "7\t\t 1.527383 \t 1.521700 \t 1.520748 \t 0.005683\n",
            "8\t\t 1.521700 \t 1.524538 \t 1.525014 \t 0.002839\n",
            "9\t\t 1.524538 \t 1.523121 \t 1.522883 \t 0.001418\n",
            "10\t\t 1.523121 \t 1.523829 \t 1.523947 \t 0.000708\n",
            "11\t\t 1.523829 \t 1.523475 \t 1.523416 \t 0.000354\n",
            "12\t\t 1.523475 \t 1.523652 \t 1.523681 \t 0.000177\n",
            "13\t\t 1.523652 \t 1.523564 \t 1.523549 \t 0.000088\n",
            "14\t\t 1.523564 \t 1.523608 \t 1.523615 \t 0.000044\n",
            "15\t\t 1.523608 \t 1.523586 \t 1.523582 \t 0.000022\n",
            "16\t\t 1.523586 \t 1.523597 \t 0.000000 \t 0.000011\n",
            "\n",
            "La raíz aproximada de la función es: 1.523597\n",
            "Con un error de: 0.000011\n"
          ]
        }
      ]
    },
    {
      "cell_type": "code",
      "source": [
        "# Valores del eje X que toma el gráfico.\n",
        "x=np.linspace(-10, 10, 500)"
      ],
      "metadata": {
        "id": "XKqsHhQP_PhQ"
      },
      "execution_count": 204,
      "outputs": []
    },
    {
      "cell_type": "code",
      "source": [
        "# crear grafica\n",
        "plt.plot(x,f(x), color=\"red\")\n",
        "plt.plot(x,t(x), color=\"blue\")\n",
        "plt.axhline(0, color=\"black\")\n",
        "plt.axvline(0, color=\"black\")\n",
        "plt.title('Gráfica de las funciones ')#titulo de la gráfica\n",
        "plt.xlabel(\"eje x\")\n",
        "plt.ylabel(\"eje y\")\n",
        "plt.xlim(0, 3)\n",
        "plt.ylim(0, 3)\n",
        "plt.savefig(\"output.png\") # Guardar gráfico como imágen PNG.\n",
        "plt.grid(color=\"pink\")\n",
        "# Coordenadas de la raiz de f(x)\n",
        "x = [1.523586]\n",
        "y = [1.523597]\n",
        "plt.plot(x, y, \"o\", color=\"green\")\n",
        "plt.show()"
      ],
      "metadata": {
        "colab": {
          "base_uri": "https://localhost:8080/",
          "height": 472
        },
        "id": "Rjtkn3CJAc_f",
        "outputId": "f8f2d587-c43b-4659-8a16-2e284a96417e"
      },
      "execution_count": 205,
      "outputs": [
        {
          "output_type": "display_data",
          "data": {
            "text/plain": [
              "<Figure size 640x480 with 1 Axes>"
            ],
            "image/png": "[encoded data removed]"
          },
          "metadata": {}
        }
      ]
    }
  ]
}