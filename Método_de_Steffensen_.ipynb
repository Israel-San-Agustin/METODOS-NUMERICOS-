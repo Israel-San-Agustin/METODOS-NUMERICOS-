{
  "nbformat": 4,
  "nbformat_minor": 0,
  "metadata": {
    "colab": {
      "provenance": [],
      "authorship_tag": "ABX9TyO5yVJYBcqatuqlLEC/Sy62",
      "include_colab_link": true
    },
    "kernelspec": {
      "name": "python3",
      "display_name": "Python 3"
    },
    "language_info": {
      "name": "python"
    }
  },
  "cells": [
    {
      "cell_type": "markdown",
      "metadata": {
        "id": "view-in-github",
        "colab_type": "text"
      },
      "source": [
        "<a href=\"https://colab.research.google.com/github/Israel-San-Agustin/METODOS-NUMERICOS-/blob/main/M%C3%A9todo_de_Steffensen_.ipynb\" target=\"_parent\"><img src=\"https://colab.research.google.com/assets/colab-badge.svg\" alt=\"Open In Colab\"/></a>"
      ]
    },
    {
      "cell_type": "markdown",
      "source": [
        "# Escribir un programa en Python que implemente el método de Steffensen (modificación del método de Aitken) para resolver ecuaciones no lineales. Como prueba, resuelva la ecuación $f(x) = cos(x) - 2x + 3 = 0 $con una precisión de $0.00001.$"
      ],
      "metadata": {
        "id": "bS_5Nrg3TUeQ"
      }
    },
    {
      "cell_type": "code",
      "source": [
        "from math import *\n",
        "import numpy as np #contiene vectores ordenados\n",
        "import matplotlib . pyplot as plt # es para graficar"
      ],
      "metadata": {
        "id": "Gb3bsxn1Tn_x"
      },
      "execution_count": 1,
      "outputs": []
    },
    {
      "cell_type": "markdown",
      "source": [
        "Dada la funcion $f(x) = cos(x) - 2x + 3 = 0$"
      ],
      "metadata": {
        "id": "JfsaqUrPG2Y_"
      }
    },
    {
      "cell_type": "code",
      "source": [
        "def f(x): #funcion f(x)\n",
        "    return cos(x) - 2*x + 3  #original original"
      ],
      "metadata": {
        "id": "Xf3B9w35Gwx_"
      },
      "execution_count": 2,
      "outputs": []
    },
    {
      "cell_type": "markdown",
      "source": [
        "Transformamos la funcion $f(x)$\n",
        "\n",
        " a $2x= cos(x) + 3x $\n",
        "\n",
        " $x=(cos(x) + 3x)/2$"
      ],
      "metadata": {
        "id": "C_3x41VpePsS"
      }
    },
    {
      "cell_type": "code",
      "source": [
        "def t(x): #funcion t(x)\n",
        "    return (cos(x)  + 3)/2 #transformada"
      ],
      "metadata": {
        "id": "q6rKjD4Le5hO"
      },
      "execution_count": 3,
      "outputs": []
    },
    {
      "cell_type": "code",
      "source": [
        "# Ingreso de los alores iniciales\n",
        "P0=1 #valor inicial\n",
        "Tol=10**(-5) #tolerancia\n",
        "Nmax=100 #numero maximo de intterracciones\n",
        "error = 100  # Inicializamos un error grande\n",
        "niter = 0  # Inicializamos el contador de iteraciones"
      ],
      "metadata": {
        "id": "sCiZBVmwfS6U"
      },
      "execution_count": 4,
      "outputs": []
    },
    {
      "cell_type": "code",
      "source": [
        "# Ciclo iterativo usando el método de Steffensen\n",
        "print(\"# iter\\t\\t P0 \\t\\t P1 \\t\\t P2 \\t\\t P \\t\\t error\")\n",
        "\n",
        "while error > Tol and niter < Nmax:\n",
        "    P1 = t(P0)  # Primer valor de la iteración de punto fijo\n",
        "    P2 = t(P1)  # Segundo valor de la iteración de punto fijo\n",
        "\n",
        "    # Aplicar la fórmula de Steffensen\n",
        "    P = P0 - ((P1 - P0) ** 2) / (P2 - 2 * P1 + P0)\n",
        "\n",
        "    # Calcular el error como la diferencia absoluta entre P y P0\n",
        "    error = abs(P - P0)\n",
        "\n",
        "    # Imprimir los resultados de cada iteración\n",
        "    print(\"{0} \\t\\t {1:6.6f} \\t {2:6.6f} \\t {3:6.6f} \\t {4:6.6f} \\t {5:6.6f}\".format(niter, P0, P1, P2, P, error))\n",
        "\n",
        "    # Actualizar el valor de P0 para la siguiente iteración\n",
        "    P0 = P\n",
        "    niter += 1\n",
        "\n",
        "# Imprimir el resultado final\n",
        "if error < Tol:\n",
        "    print(\"La solución exacta utilizando el método de Steffensen es P = {0:6.6f} con un error de {1:6.6f}\".format(P0, error))\n",
        "else:\n",
        "    print(f\"El método falló después de {Nmax} iteraciones.\")"
      ],
      "metadata": {
        "colab": {
          "base_uri": "https://localhost:8080/"
        },
        "id": "8DOb72H9Nogv",
        "outputId": "0abc3120-d34d-43dd-f665-1d0e26529afc"
      },
      "execution_count": 5,
      "outputs": [
        {
          "output_type": "stream",
          "name": "stdout",
          "text": [
            "# iter\t\t P0 \t\t P1 \t\t P2 \t\t P \t\t error\n",
            "0 \t\t 1.000000 \t 1.770151 \t 1.400982 \t 1.520602 \t 0.520602\n",
            "1 \t\t 1.520602 \t 1.525087 \t 1.522847 \t 1.523593 \t 0.002991\n",
            "2 \t\t 1.523593 \t 1.523593 \t 1.523593 \t 1.523593 \t 0.000000\n",
            "La solución exacta utilizando el método de Steffensen es P = 1.523593 con un error de 0.000000\n"
          ]
        }
      ]
    }
  ]
}