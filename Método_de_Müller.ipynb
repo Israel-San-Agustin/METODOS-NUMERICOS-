{
  "nbformat": 4,
  "nbformat_minor": 0,
  "metadata": {
    "colab": {
      "provenance": [],
      "authorship_tag": "ABX9TyPCuiCSGwwUJTc6JIXtl1i0",
      "include_colab_link": true
    },
    "kernelspec": {
      "name": "python3",
      "display_name": "Python 3"
    },
    "language_info": {
      "name": "python"
    }
  },
  "cells": [
    {
      "cell_type": "markdown",
      "metadata": {
        "id": "view-in-github",
        "colab_type": "text"
      },
      "source": [
        "<a href=\"https://colab.research.google.com/github/Israel-San-Agustin/METODOS-NUMERICOS-/blob/main/M%C3%A9todo_de_M%C3%BCller.ipynb\" target=\"_parent\"><img src=\"https://colab.research.google.com/assets/colab-badge.svg\" alt=\"Open In Colab\"/></a>"
      ]
    },
    {
      "cell_type": "markdown",
      "source": [
        "# Método de Müller"
      ],
      "metadata": {
        "id": "Mti1obqTBmYH"
      }
    },
    {
      "cell_type": "markdown",
      "source": [
        "El método de Muller es una técnica numérica que se emplea para localizar las raíces de funciones. Es una versión ampliada del método de la secante y el método de bisección. Este enfoque se vale de una interpolación cuadrática para estimar la raíz de una función. En particular, utiliza tres puntos para construir un polinomio cuadrático que se ajusta a la función en esos puntos, y luego la raíz de ese polinomio se toma como una nueva aproximación de la raíz de la función.\n",
        "\n",
        "dada la funcion:\n",
        "\n",
        "$f(x)= x^4 - 3x^3 + x^2 + x+1$"
      ],
      "metadata": {
        "id": "j1ahjNpFBvR9"
      }
    },
    {
      "cell_type": "code",
      "source": [
        "from math import *  # Librería para operaciones matemáticas\n",
        "import numpy as np\n",
        "import matplotlib.pyplot as plt  #libreria para graficar"
      ],
      "metadata": {
        "id": "q5gTdvfwKYTe"
      },
      "execution_count": 13,
      "outputs": []
    },
    {
      "cell_type": "code",
      "source": [
        "# Colocamos la función dada\n",
        "def f(x):\n",
        "    return x**4 - 3*x**3 + x**2 + x+1"
      ],
      "metadata": {
        "id": "1VY_fOBkKZ6z"
      },
      "execution_count": 14,
      "outputs": []
    },
    {
      "cell_type": "code",
      "source": [
        "#valores iniciales\n",
        "#dados lo valores iniciales\n",
        "p_0=0.5\n",
        "p_1=-0.5\n",
        "p_2=0\n",
        "Tol = 10**(-5)  # Tolerancia de 0.00001\n",
        "Nom = 100  # Número máximo de iteraciones\n",
        "niter = 3"
      ],
      "metadata": {
        "id": "WNHVruZ0LP5a"
      },
      "execution_count": 15,
      "outputs": []
    },
    {
      "cell_type": "code",
      "source": [
        "# Método de Müller\n",
        "# Imprime el encabezado para la tabla de iteraciones\n",
        "print(\"# iter\\t\\t p_1 \\t\\t f(p_1) \\t\\t error\")\n",
        "\n",
        "# Inicialización de las variables de los pasos iniciales\n",
        "h_1 = p_1 - p_0\n",
        "h_2 = p_2 - p_1\n",
        "δ_1 = (f(p_1) - f(p_0)) / h_1\n",
        "δ_2 = (f(p_2) - f(p_1)) / h_2\n",
        "d = (δ_2 - δ_1) / (h_2 + h_1)\n",
        "\n",
        "# Ciclo iterativo para aplicar el método\n",
        "while niter < Nom:  # Asegura que el número de iteraciones no supere el máximo permitido\n",
        "    b = δ_2 + h_2 * d\n",
        "    # Corregido el cálculo de la raíz cuadrada (el exponente debe ser 0.5)\n",
        "    D = (b ** 2 - 4 * f(p_2) * d) ** 0.5\n",
        "\n",
        "    # Se selecciona la E con menor magnitud para evitar la cancelación numérica\n",
        "    if abs(b - D) < abs(b + D):\n",
        "        E = b + D\n",
        "    else:\n",
        "        E = b - D\n",
        "\n",
        "    # Calcula el valor de h y la nueva aproximación p\n",
        "    h = -2 * f(p_2) / E\n",
        "    p = p_2 + h\n",
        "\n",
        "    # Verifica la convergencia con el criterio de tolerancia\n",
        "    if abs(h) < Tol:\n",
        "        print(\"{0}\\t\\t {1:6.6f} \\t {2:6.6f} \\t {3:6.6f}\".format(niter + 1, p, f(p), abs(h)))\n",
        "        print(\"El procedimiento fue exitoso.\")\n",
        "        print(f\"La raíz resultante es: {p:.10f}\")\n",
        "        break\n",
        "\n",
        "    # Actualiza los valores para la siguiente iteración\n",
        "    p_0 = p_1\n",
        "    p_1 = p_2\n",
        "    p_2 = p\n",
        "    h_1 = p_1 - p_0\n",
        "    h_2 = p_2 - p_1\n",
        "    δ_1 = (f(p_1) - f(p_0)) / h_1\n",
        "    δ_2 = (f(p_2) - f(p_1)) / h_2\n",
        "    d = (δ_2 - δ_1) / (h_2 + h_1)\n",
        "\n",
        "    # Calcula el error relativo\n",
        "    error_relativo = abs(h) / abs(p_2)\n",
        "\n",
        "    # Imprime los valores de la iteración actual\n",
        "    print(\"{0}\\t\\t {1:6.6f} \\t {2:6.6f} \\t {3:6.6f}\".format(niter, p, f(p), error_relativo))\n",
        "\n",
        "    # Incrementa el número de iteraciones\n",
        "    niter += 1\n",
        "\n",
        "# Si el ciclo termina sin convergencia, se informa al usuario\n",
        "if abs(h) >= Tol:\n",
        "    print(\"El procedimiento no fue exitoso.\")\n",
        "    print(f\"La raíz resultante es: {p_1:.10f}\")\n"
      ],
      "metadata": {
        "colab": {
          "base_uri": "https://localhost:8080/"
        },
        "id": "Iz70GpwxMqdF",
        "outputId": "4560e580-b55f-4cd2-8e1b-3aa2c765cf43"
      },
      "execution_count": 16,
      "outputs": [
        {
          "output_type": "stream",
          "name": "stdout",
          "text": [
            "# iter\t\t p_1 \t\t f(p_1) \t\t error\n",
            "3\t\t -0.100000-0.888819j \t -0.011200-3.014876j \t 1.000000\n",
            "4\t\t -0.492146-0.447031j \t -0.169121+0.736733j \t 0.888490\n",
            "5\t\t -0.352226-0.484132j \t -0.178601-0.018187j \t 0.241781\n",
            "6\t\t -0.340229-0.443036j \t 0.011976+0.010556j \t 0.076642\n",
            "7\t\t -0.339095-0.446656j \t -0.000106-0.000039j \t 0.006766\n",
            "8\t\t -0.339093-0.446630j \t 0.000000-0.000000j \t 0.000047\n",
            "10\t\t -0.339093-0.446630j \t 0.000000+0.000000j \t 0.000000\n",
            "El procedimiento fue exitoso.\n",
            "La raíz resultante es: -0.3390928378-0.4466301000j\n"
          ]
        }
      ]
    },
    {
      "cell_type": "code",
      "source": [
        "x = np.linspace(-10, 10, 400)"
      ],
      "metadata": {
        "id": "4sLjkw3pCkkG"
      },
      "execution_count": 17,
      "outputs": []
    },
    {
      "cell_type": "code",
      "source": [
        "# Crear la gráfica\n",
        "plt.plot(x, f(x), color=\"red\")\n",
        "plt.title(\"Método de Muller\")\n",
        "plt.axhline(0, color=\"black\")\n",
        "plt.axvline(0, color=\"black\")\n",
        "plt.xlim(-2, 4)\n",
        "plt.ylim(-2, 4)\n",
        "plt.xlabel('x')\n",
        "plt.ylabel('y')\n",
        "plt.grid(color=\"orange\")\n",
        "#punto donde se encuentra la raiz\n",
        "plt.scatter(p_1, f(p_1), color=\"blue\")\n",
        "plt.show()"
      ],
      "metadata": {
        "colab": {
          "base_uri": "https://localhost:8080/",
          "height": 507
        },
        "id": "rvrHDT-iCoUa",
        "outputId": "989e15ec-9581-43fa-889e-377d199a5ea4"
      },
      "execution_count": 22,
      "outputs": [
        {
          "output_type": "stream",
          "name": "stderr",
          "text": [
            "/usr/local/lib/python3.10/dist-packages/matplotlib/collections.py:192: ComplexWarning: Casting complex values to real discards the imaginary part\n",
            "  offsets = np.asanyarray(offsets, float)\n"
          ]
        },
        {
          "output_type": "display_data",
          "data": {
            "text/plain": [
              "<Figure size 640x480 with 1 Axes>"
            ],
            "image/png": "[encoded data removed]"
          },
          "metadata": {}
        }
      ]
    }
  ]
}