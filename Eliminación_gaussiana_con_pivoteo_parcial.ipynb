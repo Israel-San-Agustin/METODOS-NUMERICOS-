{
  "nbformat": 4,
  "nbformat_minor": 0,
  "metadata": {
    "colab": {
      "provenance": [],
      "authorship_tag": "ABX9TyNxPkClvoyIkgBl0+GzSmRS",
      "include_colab_link": true
    },
    "kernelspec": {
      "name": "python3",
      "display_name": "Python 3"
    },
    "language_info": {
      "name": "python"
    }
  },
  "cells": [
    {
      "cell_type": "markdown",
      "metadata": {
        "id": "view-in-github",
        "colab_type": "text"
      },
      "source": [
        "<a href=\"https://colab.research.google.com/github/Israel-San-Agustin/METODOS-NUMERICOS-/blob/main/Eliminaci%C3%B3n_gaussiana_con_pivoteo_parcial.ipynb\" target=\"_parent\"><img src=\"https://colab.research.google.com/assets/colab-badge.svg\" alt=\"Open In Colab\"/></a>"
      ]
    },
    {
      "cell_type": "markdown",
      "source": [
        "# Pivoteo parcial"
      ],
      "metadata": {
        "id": "fNHTmB2ssuSG"
      }
    },
    {
      "cell_type": "code",
      "execution_count": 2,
      "metadata": {
        "colab": {
          "base_uri": "https://localhost:8080/"
        },
        "id": "JaZ6sHgAsk_J",
        "outputId": "09e3dee2-d1e2-4b1e-b63f-4c3254e7dfb7"
      },
      "outputs": [
        {
          "output_type": "stream",
          "name": "stdout",
          "text": [
            "Matriz Aumentada Inicial:\n",
            "[[ 3.000e-03  5.914e+01  5.917e+01]\n",
            " [ 5.291e+00 -6.130e+00  4.678e+01]]\n",
            "\n",
            "Matriz después de la eliminación en la columna 1:\n",
            "[[ 5.291      -6.13       46.78      ]\n",
            " [ 0.         59.14347571 59.14347571]]\n",
            "\n",
            "Matriz después de la eliminación en la columna 2:\n",
            "[[ 5.291      -6.13       46.78      ]\n",
            " [ 0.         59.14347571 59.14347571]]\n",
            "\n",
            "Matriz reducida:\n",
            "[[ 5.291      -6.13       46.78      ]\n",
            " [ 0.         59.14347571 59.14347571]]\n",
            "\n",
            "Solución del sistema:\n",
            "x1 = 10.000000\n",
            "x2 = 1.000000\n"
          ]
        }
      ],
      "source": [
        "import numpy as np\n",
        "\n",
        "def eliminacion_gaussiana_pivoteo_parcial(A):\n",
        "    \"\"\"\n",
        "    Resolución de un sistema de ecuaciones lineales usando eliminación gaussiana con pivoteo parcial.\n",
        "\n",
        "    Parámetros:\n",
        "    A (numpy.ndarray): Matriz aumentada del sistema (n x n+1).\n",
        "\n",
        "    Retorna:\n",
        "    numpy.ndarray: Vector solución x si existe una solución única.\n",
        "    \"\"\"\n",
        "    n = A.shape[0]  # Número de filas de la matriz A\n",
        "\n",
        "    print(\"Matriz Aumentada Inicial:\")\n",
        "    print(A)\n",
        "\n",
        "    # Proceso de Eliminación Gaussiana con Pivoteo Parcial\n",
        "    for i in range(n):\n",
        "        # Encontrar el mayor pivote absoluto en la columna actual\n",
        "        max_row_index = np.argmax(abs(A[i:, i])) + i\n",
        "        if A[max_row_index, i] == 0:\n",
        "            raise ValueError(\"El sistema no tiene solución única (pivote nulo encontrado).\")\n",
        "\n",
        "        # Intercambiar la fila actual con la fila del mayor pivote\n",
        "        if i != max_row_index:\n",
        "            A[[i, max_row_index]] = A[[max_row_index, i]]\n",
        "\n",
        "        # Eliminar los elementos debajo del pivote\n",
        "        for j in range(i + 1, n):\n",
        "            factor = A[j, i] / A[i, i]\n",
        "            A[j, i:] = A[j, i:] - factor * A[i, i:]\n",
        "\n",
        "        # Imprimir la matriz después de la eliminación de cada columna\n",
        "        print(f\"\\nMatriz después de la eliminación en la columna {i + 1}:\")\n",
        "        print(A)\n",
        "\n",
        "    # Sustitución hacia atrás\n",
        "    x = np.zeros(n)\n",
        "    for i in range(n - 1, -1, -1):\n",
        "        x[i] = (A[i, -1] - np.dot(A[i, i + 1:n], x[i + 1:n])) / A[i, i]\n",
        "\n",
        "    # Imprimir la matriz después de la sustitución hacia atrás\n",
        "    print(\"\\nMatriz reducida:\")\n",
        "    print(A)\n",
        "\n",
        "    return x\n",
        "\n",
        "# Ejemplo de uso\n",
        "if __name__ == \"__main__\":\n",
        "    # Definir la matriz aumentada del sistema\n",
        "    A = np.array([[0.003000, 59.14, 59.17],\n",
        "                  [5.291, -6.130, 46.78]], dtype=float)\n",
        "\n",
        "    try:\n",
        "        solucion = eliminacion_gaussiana_pivoteo_parcial(A)\n",
        "        print(\"\\nSolución del sistema:\")\n",
        "        for i in range(len(solucion)):\n",
        "            print(f\"x{i+1} = {solucion[i]:.6f}\")\n",
        "    except ValueError as e:\n",
        "        print(e)\n"
      ]
    }
  ]
}