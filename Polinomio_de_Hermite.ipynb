{
  "nbformat": 4,
  "nbformat_minor": 0,
  "metadata": {
    "colab": {
      "provenance": [],
      "authorship_tag": "ABX9TyP244tNST878cghVcGQmqFb",
      "include_colab_link": true
    },
    "kernelspec": {
      "name": "python3",
      "display_name": "Python 3"
    },
    "language_info": {
      "name": "python"
    }
  },
  "cells": [
    {
      "cell_type": "markdown",
      "metadata": {
        "id": "view-in-github",
        "colab_type": "text"
      },
      "source": [
        "<a href=\"https://colab.research.google.com/github/Israel-San-Agustin/METODOS-NUMERICOS-/blob/main/Polinomio_de_Hermite.ipynb\" target=\"_parent\"><img src=\"https://colab.research.google.com/assets/colab-badge.svg\" alt=\"Open In Colab\"/></a>"
      ]
    },
    {
      "cell_type": "markdown",
      "source": [],
      "metadata": {
        "id": "t9vDs4JJ2kik"
      }
    },
    {
      "cell_type": "code",
      "execution_count": 3,
      "metadata": {
        "id": "JI8zksRa2FuB",
        "colab": {
          "base_uri": "https://localhost:8080/"
        },
        "outputId": "50bd68cb-78ad-416e-e38f-7f36d35e33c5"
      },
      "outputs": [
        {
          "output_type": "stream",
          "name": "stdout",
          "text": [
            "Tabla de Hermite:\n",
            "['xi', 'f(x)', 'PrimerasDD', 'SegundasDD', 'TercerasDD', 'CuartasDD']\n",
            "[1.3, 0.620086, '', '', '', '']\n",
            "[1.3, 0.620086, -0.5220232, '', '', '']\n",
            "[1.6, 0.4554022, -0.548946, -0.0897427, '', '']\n",
            "[1.6, 0.4554022, -0.5698959, -0.069833, 0.0663656, '']\n",
            "[1.9, 0.2818186, -0.578612, -0.0290537, 0.0679656, 0.0026667]\n",
            "[1.9, 0.2818186, -0.5811571, -0.0084837, 0.0685667, 0.0010019, -0.0027747]\n",
            "H(x) = 0.5118277002320001\n",
            "El valor aproximado en H(1.5) = 0.5118277002320001\n"
          ]
        }
      ],
      "source": [
        "import numpy as np\n",
        "\n",
        "def metodo_hermite(x_eval, xi, fi, fpi):\n",
        "    n = len(xi)  # Número de puntos dados\n",
        "\n",
        "    # Crear una tabla de diferencias divididas (2n x 2n)\n",
        "    tabla = np.zeros((2 * n, 2 * n))\n",
        "    z = np.zeros(2 * n)  # Vector de nodos duplicados\n",
        "\n",
        "    # Inicializar los valores de la tabla con f(xi) y f'(xi)\n",
        "    for i in range(n):\n",
        "        z[2 * i] = z[2 * i + 1] = xi[i]\n",
        "        tabla[2 * i][0] = tabla[2 * i + 1][0] = fi[i]\n",
        "        tabla[2 * i + 1][1] = fpi[i]\n",
        "        if i > 0:\n",
        "            tabla[2 * i][1] = (tabla[2 * i][0] - tabla[2 * i - 1][0]) / (z[2 * i] - z[2 * i - 1])\n",
        "\n",
        "    # Llenar las diferencias divididas superiores\n",
        "    for i in range(2, 2 * n):\n",
        "        for j in range(2, i + 1):\n",
        "            tabla[i][j] = (tabla[i][j - 1] - tabla[i - 1][j - 1]) / (z[i] - z[i - j])\n",
        "\n",
        "    # Redondear la tabla para mejor visualización\n",
        "    tabla = np.round(tabla, 7)\n",
        "\n",
        "    # Obtener los coeficientes del polinomio\n",
        "    coeficientes = [tabla[i][i] for i in range(2 * n)]\n",
        "\n",
        "    # Construir el polinomio de Hermite como una expresión simbólica\n",
        "    polinomio = coeficientes[0]\n",
        "    for i in range(1, 2 * n):\n",
        "        termino = coeficientes[i]\n",
        "        for j in range(i):\n",
        "            termino *= (x_eval - z[j])\n",
        "        polinomio += termino\n",
        "\n",
        "    # Construir la tabla de resultados para mostrar\n",
        "    encabezados = [\"xi\", \"f(x)\", \"PrimerasDD\", \"SegundasDD\", \"TercerasDD\", \"CuartasDD\"]\n",
        "    tabla_hermite = [encabezados]\n",
        "    for i in range(2 * n):\n",
        "        fila = [z[i], tabla[i][0]]\n",
        "        for j in range(1, i + 1):\n",
        "            fila.append(tabla[i][j])\n",
        "        while len(fila) < len(encabezados):\n",
        "            fila.append(\"\")\n",
        "        tabla_hermite.append(fila)\n",
        "\n",
        "    # Evaluar el polinomio en el punto dado\n",
        "    valor_aproximado = coeficientes[0]\n",
        "    for i in range(1, 2 * n):\n",
        "        termino = coeficientes[i]\n",
        "        for j in range(i):\n",
        "            termino *= (x_eval - z[j])\n",
        "        valor_aproximado += termino\n",
        "\n",
        "    return valor_aproximado, tabla, polinomio, z, tabla_hermite\n",
        "\n",
        "# Valores iniciales para la tabla de Hermite\n",
        "xi = [1.3, 1.6, 1.9]  # Nodos\n",
        "fi = [0.6200860, 0.4554022, 0.2818186]  # Valores de la función\n",
        "fpi = [-0.5220232, -0.5698959, -0.5811571]  # Derivadas de la función\n",
        "x_eval = 1.5  # Punto donde evaluar el polinomio\n",
        "\n",
        "# Llamar a la función\n",
        "valor_aproximado, tabla, polinomio, z, tabla_hermite = metodo_hermite(x_eval, xi, fi, fpi)\n",
        "\n",
        "# Mostrar los resultados\n",
        "print(\"Tabla de Hermite:\")\n",
        "for fila in tabla_hermite:\n",
        "    print(fila)\n",
        "print(f\"H(x) = {polinomio}\")\n",
        "print(f\"El valor aproximado en H({x_eval}) = {valor_aproximado}\")\n"
      ]
    }
  ]
}