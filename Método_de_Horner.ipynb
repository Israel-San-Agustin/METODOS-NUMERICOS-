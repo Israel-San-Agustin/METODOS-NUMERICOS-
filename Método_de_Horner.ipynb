{
  "nbformat": 4,
  "nbformat_minor": 0,
  "metadata": {
    "colab": {
      "provenance": [],
      "authorship_tag": "ABX9TyNBDVHrV0gXlQrJxqwhXzHJ",
      "include_colab_link": true
    },
    "kernelspec": {
      "name": "python3",
      "display_name": "Python 3"
    },
    "language_info": {
      "name": "python"
    }
  },
  "cells": [
    {
      "cell_type": "markdown",
      "metadata": {
        "id": "view-in-github",
        "colab_type": "text"
      },
      "source": [
        "<a href=\"https://colab.research.google.com/github/Israel-San-Agustin/METODOS-NUMERICOS-/blob/main/M%C3%A9todo_de_Horner.ipynb\" target=\"_parent\"><img src=\"https://colab.research.google.com/assets/colab-badge.svg\" alt=\"Open In Colab\"/></a>"
      ]
    },
    {
      "cell_type": "markdown",
      "source": [
        "# Use el método de Horner para evaluar $P(x) = 2x^4 - 3x^2 + 3x - 4 $\n",
        "#en $x_0 = -2.$"
      ],
      "metadata": {
        "id": "81owsMVQ7fAx"
      }
    },
    {
      "cell_type": "code",
      "source": [
        "from math import *\n",
        "import numpy as np #contiene vectores ordenados de x\n",
        "import matplotlib.pyplot as plt #contiene funciones para graficar\n",
        "import sympy as sym #contiene funciones simbólicas y nos sirve para derivar"
      ],
      "metadata": {
        "id": "Y3g8AktP8TB9"
      },
      "execution_count": 25,
      "outputs": []
    },
    {
      "cell_type": "markdown",
      "source": [
        "sea el polinomio asociado $P(x) 2x^4 - 3x^2 + 3x - 4 $"
      ],
      "metadata": {
        "id": "pQmk_ZmoWJEO"
      }
    },
    {
      "cell_type": "code",
      "source": [
        "def p(x): # el polinomio asociado\n",
        "  return 2*x**4 - 3*x**2 + 3*x - 4"
      ],
      "metadata": {
        "id": "CbMuWeWKNTx0"
      },
      "execution_count": 26,
      "outputs": []
    },
    {
      "cell_type": "code",
      "source": [
        "# Coeficientes para P(x) = 2x^4 - 3x^2 + 3x - 4\n",
        "grado = 4  # Grado del polinomio\n",
        "coeficientes = [-4, 3, -3, 0, 2]  # Coeficientes: a0, a1, a2, a3, a4\n",
        "x0 = -2  # Punto en el que se evalúa el polinomio"
      ],
      "metadata": {
        "id": "qyQjPo7CdZRV"
      },
      "execution_count": 27,
      "outputs": []
    },
    {
      "source": [
        "# Metodo de Horner\n",
        "def evaluar_polinomio(grado, coeficientes, x0):\n",
        "    # Paso 1: Determina y = a_n y z = a_n\n",
        "    y = coeficientes[grado]  # an\n",
        "    z = coeficientes[grado]  # an\n",
        "\n",
        "    # Paso 2: Para j = n - 1, n - 2, ..., 1\n",
        "    for j in range(grado - 1, 0, -1):\n",
        "        y = x0 * y + coeficientes[j]  # Calcule b_j para P\n",
        "        z = x0 * z + y  # Calcule b_j-1 para Q\n",
        "\n",
        "    # Paso 3: Determina y = x0 * y + a0\n",
        "    y = x0 * y + coeficientes[0]  # Calcule b_0 para P\n",
        "\n",
        "    # Paso 4: Salida\n",
        "    return y, z\n",
        "\n",
        "# Define grado and coeficientes here\n",
        "grado = 4  # Grado del polinomio\n",
        "coeficientes = [-4, 3, -3, 0, 2]  # Coeficientes: a0, a1, a2, a3, a4\n",
        "x0 = -2  # Punto en el que se evalúa el polinomio\n",
        "\n",
        "resultado_y, resultado_z = evaluar_polinomio(grado, coeficientes, x0)\n",
        "print(f\"El valor de P({x0}) es: {resultado_y}\")\n",
        "print(f\"El valor de P'({x0}) es: {resultado_z}\")"
      ],
      "cell_type": "code",
      "metadata": {
        "colab": {
          "base_uri": "https://localhost:8080/"
        },
        "id": "LBki445E9-gI",
        "outputId": "4c8ca1ed-e72d-4ad2-d120-3306645a041f"
      },
      "execution_count": 29,
      "outputs": [
        {
          "output_type": "stream",
          "name": "stdout",
          "text": [
            "El valor de P(-2) es: 10\n",
            "El valor de P'(-2) es: -49\n"
          ]
        }
      ]
    },
    {
      "cell_type": "code",
      "source": [
        "def P(x):\n",
        "    return 2 * x**4 - 3 * x**2 + 3 * x - 4\n",
        "\n",
        "def P_derivada(x):\n",
        "    return 8 * x**3 - 6 * x + 3\n",
        "\n",
        "def newton_raphson(x0, tol=1e-6, max_iter=100):\n",
        "    for i in range(max_iter):\n",
        "        fx = P(x0)\n",
        "        dfx = P_derivada(x0)\n",
        "\n",
        "        if dfx == 0:  # Evitar división por cero\n",
        "            print(\"Derivada es cero. No se puede continuar.\")\n",
        "            return None\n",
        "\n",
        "        x1 = x0 - fx / dfx  # Fórmula de Newton-Raphson\n",
        "\n",
        "        # Comprobar si la aproximación es suficiente\n",
        "        if abs(x1 - x0) < tol:\n",
        "            return x1\n",
        "\n",
        "        x0 = x1\n",
        "\n",
        "    print(\"No se encontró una raíz dentro del número máximo de iteraciones.\")\n",
        "    return None\n",
        "\n",
        "# Usar x0 = -2 como punto inicial\n",
        "x0 = -2\n",
        "raiz_aproximada = newton_raphson(x0)\n",
        "\n",
        "if raiz_aproximada is not None:\n",
        "    print(f\"La raíz aproximada de P(x) es: {raiz_aproximada}\")\n"
      ],
      "metadata": {
        "colab": {
          "base_uri": "https://localhost:8080/"
        },
        "id": "rw1Djuoa-Z02",
        "outputId": "21a68902-a2c9-48da-daf2-bac62bee73ea"
      },
      "execution_count": 30,
      "outputs": [
        {
          "output_type": "stream",
          "name": "stdout",
          "text": [
            "La raíz aproximada de P(x) es: -1.738956256451892\n"
          ]
        }
      ]
    }
  ]
}