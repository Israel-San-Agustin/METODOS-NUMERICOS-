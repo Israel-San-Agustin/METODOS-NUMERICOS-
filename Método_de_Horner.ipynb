{
  "nbformat": 4,
  "nbformat_minor": 0,
  "metadata": {
    "colab": {
      "provenance": [],
      "authorship_tag": "ABX9TyPHRQyPzQinE3aFq/5Z+5fs",
      "include_colab_link": true
    },
    "kernelspec": {
      "name": "python3",
      "display_name": "Python 3"
    },
    "language_info": {
      "name": "python"
    }
  },
  "cells": [
    {
      "cell_type": "markdown",
      "metadata": {
        "id": "view-in-github",
        "colab_type": "text"
      },
      "source": [
        "<a href=\"https://colab.research.google.com/github/Israel-San-Agustin/METODOS-NUMERICOS-/blob/main/M%C3%A9todo_de_Horner.ipynb\" target=\"_parent\"><img src=\"https://colab.research.google.com/assets/colab-badge.svg\" alt=\"Open In Colab\"/></a>"
      ]
    },
    {
      "cell_type": "markdown",
      "source": [
        "# Use el método de Horner para evaluar $P(x) = 2x^4 - 3x^2 + 3x - 4 $\n",
        "#en $x_0 = -2.$"
      ],
      "metadata": {
        "id": "81owsMVQ7fAx"
      }
    },
    {
      "cell_type": "code",
      "source": [
        "from math import *\n",
        "import numpy as np #contiene vectores ordenados de x\n",
        "import matplotlib.pyplot as plt #contiene funciones para graficar\n",
        "import sympy as sym #contiene funciones simbólicas y nos sirve para derivar"
      ],
      "metadata": {
        "id": "Y3g8AktP8TB9"
      },
      "execution_count": 6,
      "outputs": []
    },
    {
      "cell_type": "markdown",
      "source": [
        "sea el polinomio asociado $P(x) 2x^4 - 3x^2 + 3x - 4 $"
      ],
      "metadata": {
        "id": "pQmk_ZmoWJEO"
      }
    },
    {
      "cell_type": "code",
      "source": [
        "def p(x): # el polinomio asociado\n",
        "  return 2*x**4 - 3*x**2 + 3*x - 4"
      ],
      "metadata": {
        "id": "CbMuWeWKNTx0"
      },
      "execution_count": 7,
      "outputs": []
    },
    {
      "cell_type": "code",
      "source": [
        "# Ingreso de los alores iniciales\n",
        "g= 4 #grado del polinomio\n",
        "Tol=10**(-5) #tolerancia\n",
        "x0=-2 #valor inicial\n",
        "error = 100  # Inicializamos un error grande\n",
        "niter = 0  # Inicializamos el contador de iteraciones"
      ],
      "metadata": {
        "id": "qyQjPo7CdZRV"
      },
      "execution_count": 8,
      "outputs": []
    },
    {
      "cell_type": "code",
      "source": [
        "# Metodo de Horner\n",
        "#usando divivion sintetica\n",
        "def synthetic_division(coefficients, x0):\n",
        "    # Inicializar el resultado con el primer coeficiente\n",
        "    result = [coefficients[0]]\n",
        "\n",
        "    # Realizar la división sintética\n",
        "    for i in range(1, len(coefficients)):\n",
        "        # Multiplicar el valor anterior por x0 y sumar el siguiente coeficiente\n",
        "        result.append(result[i - 1] * x0 + coefficients[i])\n",
        "\n",
        "        remainder = result[-1]  # El residuo\n",
        "\n",
        "    return result, remainder\n",
        "\n",
        "# Coeficientes del polinomio: 2*x^4 - 3*x^2 + 3*x - 4\n",
        "coefficients = [2, 0, -3, 3, -4]  # [2, 0, -3, 3, -4]\n",
        "\n",
        "# Realizar la división sintética\n",
        "x0 = -2\n",
        "result, remainder = synthetic_division(coefficients, x0)\n",
        "\n",
        "# Mostrar el resultado\n",
        "print(\"El resultado de la división sintética es:\", result)\n",
        "print(\"El residuo es:\", remainder)"
      ],
      "metadata": {
        "colab": {
          "base_uri": "https://localhost:8080/"
        },
        "id": "rMDjH3npe15P",
        "outputId": "b82fdbf2-4d85-454b-82fa-5fffd7479424"
      },
      "execution_count": 14,
      "outputs": [
        {
          "output_type": "stream",
          "name": "stdout",
          "text": [
            "El resultado de la división sintética es: [2, -4, 5, -7, 10]\n",
            "El residuo es: 10\n"
          ]
        }
      ]
    }
  ]
}