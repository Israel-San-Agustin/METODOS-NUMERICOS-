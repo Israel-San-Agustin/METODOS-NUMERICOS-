{
  "nbformat": 4,
  "nbformat_minor": 0,
  "metadata": {
    "colab": {
      "provenance": [],
      "authorship_tag": "ABX9TyNBt32GvhEuQVCwoTjGZnHF",
      "include_colab_link": true
    },
    "kernelspec": {
      "name": "python3",
      "display_name": "Python 3"
    },
    "language_info": {
      "name": "python"
    }
  },
  "cells": [
    {
      "cell_type": "markdown",
      "metadata": {
        "id": "view-in-github",
        "colab_type": "text"
      },
      "source": [
        "<a href=\"https://colab.research.google.com/github/Israel-San-Agustin/METODOS-NUMERICOS-/blob/main/Factorizaci%C3%B3n_LU.ipynb\" target=\"_parent\"><img src=\"https://colab.research.google.com/assets/colab-badge.svg\" alt=\"Open In Colab\"/></a>"
      ]
    },
    {
      "cell_type": "markdown",
      "source": [
        "# $Factorización$ $LU$"
      ],
      "metadata": {
        "id": "6endRiklD_qS"
      }
    },
    {
      "cell_type": "markdown",
      "source": [
        "Para factorizar la matriz $n X n$ $A$ = $[a_{ij}]$ en el producto de la matriz triangular inferior\n",
        "\n",
        "$L$ = $[l_{i j}]$ y la matriz triangular superior $U$ = $[u_{i j}]$, es decir $A$ $LU$, donde la diagonal\n",
        "principal ya sea de $L$ o $U$ consta sólo de unos:"
      ],
      "metadata": {
        "id": "lc8ITLovfzaM"
      }
    },
    {
      "cell_type": "code",
      "source": [
        "import numpy as np"
      ],
      "metadata": {
        "id": "S8raDI9Zelhy"
      },
      "execution_count": 8,
      "outputs": []
    },
    {
      "cell_type": "code",
      "source": [
        "def lu_factorization(A):\n",
        "\n",
        "    n = A.shape[0]  # Dimensión de la matriz\n",
        "    L = np.eye(n)   # Inicializar L como la matriz identidad\n",
        "    U = A.copy()    # Copiar A para modificar en U\n",
        "\n",
        "    for j in range(n):\n",
        "        # Verificar si el pivote es cero\n",
        "        if U[j, j] == 0:\n",
        "            raise ValueError(\"Factorización imposible: pivote cero en la posición ({}, {}).\".format(j, j))\n",
        "\n",
        "        # Actualizar las filas de U y L\n",
        "        for i in range(j + 1, n):\n",
        "            L[i, j] = U[i, j] / U[j, j]\n",
        "            for k in range(j, n):\n",
        "                U[i, k] -= L[i, j] * U[j, k]\n",
        "\n",
        "    return L, U\n"
      ],
      "metadata": {
        "id": "yYFy185veof5"
      },
      "execution_count": 9,
      "outputs": []
    },
    {
      "cell_type": "code",
      "source": [
        "def solve_lu(L, U, b):\n",
        "\n",
        "    # Sustitución hacia adelante para resolver Ly = b\n",
        "    n = L.shape[0]\n",
        "    y = np.zeros_like(b, dtype=float)\n",
        "    print(\"\\nProceso de sustitución hacia adelante (Ly = b):\")\n",
        "    for i in range(n):\n",
        "        y[i] = b[i] - sum(L[i, j] * y[j] for j in range(i))\n",
        "        print(f\"y[{i}] = {y[i]:.4f}\")\n",
        "\n",
        "    # Sustitución hacia atrás para resolver Ux = y\n",
        "    x = np.zeros_like(b, dtype=float)\n",
        "    print(\"\\nProceso de sustitución hacia atrás (Ux = y):\")\n",
        "    for i in range(n - 1, -1, -1):\n",
        "        x[i] = (y[i] - sum(U[i, j] * x[j] for j in range(i + 1, n))) / U[i, i]\n",
        "        print(f\"x[{i}] = {x[i]:.4f}\")\n",
        "\n",
        "    return x"
      ],
      "metadata": {
        "id": "aS_m1LKYeve9"
      },
      "execution_count": 10,
      "outputs": []
    },
    {
      "cell_type": "code",
      "source": [
        "# Matriz de entrada\n",
        "if __name__ == \"__main__\":\n",
        "    # Matriz A y vector b del ejemplo\n",
        "    A = np.array([[1, 1, 0, 3],\n",
        "                  [2, 1, -1, 1],\n",
        "                  [3, -1, -1, 2],\n",
        "                  [-1, 2, 3, -1]], dtype=float)\n",
        "    # Vector b\n",
        "    b = np.array([4, 1, -3, 4], dtype=float)\n",
        "\n",
        "    try:\n",
        "        L, U = lu_factorization(A)\n",
        "        print(\"Matriz L:\")\n",
        "        print(L)\n",
        "        print(\"Matriz U:\")\n",
        "        print(U)\n",
        "\n",
        "        # Resolver el sistema Ax = b\n",
        "        x = solve_lu(L, U, b)\n",
        "        print(\"\\nSolución del sistema:\")\n",
        "        print(x)\n",
        "    except ValueError as e:\n",
        "        print(e)\n",
        "\n",
        "\n"
      ],
      "metadata": {
        "colab": {
          "base_uri": "https://localhost:8080/"
        },
        "id": "BwJCDWSUTmQW",
        "outputId": "22000327-03ee-41fc-ae23-b7bdeebb6c76"
      },
      "execution_count": 11,
      "outputs": [
        {
          "output_type": "stream",
          "name": "stdout",
          "text": [
            "Matriz L:\n",
            "[[ 1.  0.  0.  0.]\n",
            " [ 2.  1.  0.  0.]\n",
            " [ 3.  4.  1.  0.]\n",
            " [-1. -3.  0.  1.]]\n",
            "Matriz U:\n",
            "[[  1.   1.   0.   3.]\n",
            " [  0.  -1.  -1.  -5.]\n",
            " [  0.   0.   3.  13.]\n",
            " [  0.   0.   0. -13.]]\n",
            "\n",
            "Proceso de sustitución hacia adelante (Ly = b):\n",
            "y[0] = 4.0000\n",
            "y[1] = -7.0000\n",
            "y[2] = 13.0000\n",
            "y[3] = -13.0000\n",
            "\n",
            "Proceso de sustitución hacia atrás (Ux = y):\n",
            "x[3] = 1.0000\n",
            "x[2] = 0.0000\n",
            "x[1] = 2.0000\n",
            "x[0] = -1.0000\n",
            "\n",
            "Solución del sistema:\n",
            "[-1.  2.  0.  1.]\n"
          ]
        }
      ]
    }
  ]
}