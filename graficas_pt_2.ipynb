{
  "cells": [
    {
      "cell_type": "markdown",
      "metadata": {
        "id": "view-in-github",
        "colab_type": "text"
      },
      "source": [
        "<a href=\"https://colab.research.google.com/github/Israel-San-Agustin/METODOS-NUMERICOS-/blob/main/graficas_pt_2.ipynb\" target=\"_parent\"><img src=\"https://colab.research.google.com/assets/colab-badge.svg\" alt=\"Open In Colab\"/></a>"
      ]
    },
    {
      "cell_type": "markdown",
      "id": "671dd681",
      "metadata": {
        "id": "671dd681"
      },
      "source": [
        "# Gráfica de $f(x)=x - 3^{-x}$"
      ]
    },
    {
      "cell_type": "code",
      "execution_count": 1,
      "id": "50d8ebd2",
      "metadata": {
        "id": "50d8ebd2"
      },
      "outputs": [],
      "source": [
        "import matplotlib.pyplot as plt\n",
        "import numpy as np"
      ]
    },
    {
      "cell_type": "code",
      "execution_count": null,
      "id": "7f3ddf27",
      "metadata": {
        "id": "7f3ddf27"
      },
      "outputs": [],
      "source": [
        "# Función cuadrática.\n",
        "def f(x):\n",
        "    return x - 3**(-x)\n",
        "def g(x):\n",
        "    return x\n",
        "def h(x):\n",
        "    return - 3**(-x)"
      ]
    },
    {
      "cell_type": "code",
      "execution_count": null,
      "id": "4eae7125",
      "metadata": {
        "id": "4eae7125"
      },
      "outputs": [],
      "source": [
        "# Valores del eje X que toma el gráfico.\n",
        "x=np.linspace(-10, 10,100)"
      ]
    },
    {
      "cell_type": "code",
      "source": [
        "f(-5),f(1)"
      ],
      "metadata": {
        "colab": {
          "base_uri": "https://localhost:8080/"
        },
        "id": "i_w05YWwkkPK",
        "outputId": "345aadc8-3539-4752-eaab-695bd74edefa"
      },
      "id": "i_w05YWwkkPK",
      "execution_count": null,
      "outputs": [
        {
          "output_type": "execute_result",
          "data": {
            "text/plain": [
              "(-248, 0.6666666666666667)"
            ]
          },
          "metadata": {},
          "execution_count": 4
        }
      ]
    },
    {
      "cell_type": "code",
      "execution_count": null,
      "id": "50c58368",
      "metadata": {
        "colab": {
          "base_uri": "https://localhost:8080/",
          "height": 487
        },
        "id": "50c58368",
        "outputId": "1a74d7e9-3a93-4cdd-948a-6cc7d36e88c3"
      },
      "outputs": [
        {
          "output_type": "display_data",
          "data": {
            "text/plain": [
              "<Figure size 500x500 with 1 Axes>"
            ],
            "image/png": "[encoded data removed]"
          },
          "metadata": {}
        }
      ],
      "source": [
        "# Graficar ambas funciones.\n",
        "plt.figure(figsize=(5,5)) #tamaño de la figura\n",
        "plt.plot(x, f(x))\n",
        "plt.plot(x, g(x))\n",
        "plt.plot(x, h(x))\n",
        "plt.axhline(0, color=\"black\")\n",
        "plt.axvline(0, color=\"black\")\n",
        "plt.xlabel(\"eje x\")\n",
        "plt.ylabel(\"eje y\")\n",
        "plt.xlim(-10, 10)\n",
        "plt.ylim(-5, 5)\n",
        "plt.title(\"suma de funciones\")\n",
        "plt.savefig(\"output.png\") # Guardar gráfico como imágen PNG.\n",
        "# Mostrarlo.\n",
        "plt.grid()\n",
        "plt.show()\n"
      ]
    },
    {
      "cell_type": "markdown",
      "source": [
        "se muestra como pudes graficar diferentes funciones en un mismo plano ademas de que los codigos nos permiten cambiar de tamaño asi como tambien el como agregar titulos y darnos una manera de graficar en python\n"
      ],
      "metadata": {
        "id": "zoZvkwRTmOeT"
      },
      "id": "zoZvkwRTmOeT"
    },
    {
      "cell_type": "markdown",
      "id": "7bbb009c",
      "metadata": {
        "id": "7bbb009c"
      },
      "source": [
        "Ejercicio 1: Graficar las funciones $x$ y $3^{-x}$ en una sola figura y comentar cómo su resta da origen a la gráfica de $f(x)$.\n",
        "\n",
        "Ejercicio 2: Agregar título, color, retícula, rótulos a los ejes y aumentar el tamaño de la gráfica."
      ]
    }
  ],
  "metadata": {
    "kernelspec": {
      "display_name": "Python 3 (ipykernel)",
      "language": "python",
      "name": "python3"
    },
    "language_info": {
      "codemirror_mode": {
        "name": "ipython",
        "version": 3
      },
      "file_extension": ".py",
      "mimetype": "text/x-python",
      "name": "python",
      "nbconvert_exporter": "python",
      "pygments_lexer": "ipython3",
      "version": "3.7.3"
    },
    "colab": {
      "provenance": [],
      "include_colab_link": true
    }
  },
  "nbformat": 4,
  "nbformat_minor": 5
}