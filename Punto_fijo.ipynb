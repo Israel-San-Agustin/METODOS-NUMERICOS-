{
  "nbformat": 4,
  "nbformat_minor": 0,
  "metadata": {
    "colab": {
      "provenance": [],
      "authorship_tag": "ABX9TyO/F6FOtNBT/jMob4rlaudb",
      "include_colab_link": true
    },
    "kernelspec": {
      "name": "python3",
      "display_name": "Python 3"
    },
    "language_info": {
      "name": "python"
    }
  },
  "cells": [
    {
      "cell_type": "markdown",
      "metadata": {
        "id": "view-in-github",
        "colab_type": "text"
      },
      "source": [
        "<a href=\"https://colab.research.google.com/github/Israel-San-Agustin/METODOS-NUMERICOS-/blob/main/Punto_fijo.ipynb\" target=\"_parent\"><img src=\"https://colab.research.google.com/assets/colab-badge.svg\" alt=\"Open In Colab\"/></a>"
      ]
    },
    {
      "cell_type": "markdown",
      "source": [
        "# Use el metro de iteraccion de un punto fijo para determinar una solucion exactadentro de $10^{-2}$ para $x^3-x-1=0$. $Use P_0=1 $\n"
      ],
      "metadata": {
        "id": "WYyXk5ttpr0e"
      }
    },
    {
      "cell_type": "code",
      "execution_count": 4,
      "metadata": {
        "id": "rR8PIPARUQ87"
      },
      "outputs": [],
      "source": [
        "from math import *\n",
        "import numpy as np #contiene vectores ordenados\n",
        "import matplotlib . pyplot as plt # es para graficar"
      ]
    },
    {
      "cell_type": "code",
      "source": [
        "def f(x): #funcion f(x)\n",
        "    return x**(3) - x - 1 #Funcion original"
      ],
      "metadata": {
        "id": "0lrmTk693o_7"
      },
      "execution_count": 5,
      "outputs": []
    },
    {
      "cell_type": "markdown",
      "source": [
        "Para utilizar el metor del punto fijo se tiene que factorizar la funcion $x^3−x−1=0$ por lo tanto:\n",
        "$= x^3-x=1$\n",
        "$=x^3=x+1$\n",
        "$=x=(x+1)^{1/3}$"
      ],
      "metadata": {
        "id": "_tiMSRpl4A2Q"
      }
    },
    {
      "cell_type": "code",
      "source": [
        "def g(x): #funcion g(x) del punto fijo\n",
        "    return (x+1)**(1/3) #La factorizacio  de la funcion"
      ],
      "metadata": {
        "id": "NpZcMX50Uj9C"
      },
      "execution_count": 6,
      "outputs": []
    },
    {
      "cell_type": "code",
      "source": [
        "x=np.linspace(0,5,100)"
      ],
      "metadata": {
        "id": "o_s6k017XvJ7"
      },
      "execution_count": 7,
      "outputs": []
    },
    {
      "cell_type": "code",
      "source": [
        "plt.plot(f(x))#funcion f(x)\n",
        "plt.plot(g(x)) #Funcion factorizada g(x)\n",
        "plt.axhline(0, color=\"black\")\n",
        "plt.axvline(0, color=\"black\")"
      ],
      "metadata": {
        "colab": {
          "base_uri": "https://localhost:8080/",
          "height": 447
        },
        "id": "PSiJd_gqoGdV",
        "outputId": "3a70119e-f301-463e-fc6d-f2a8890596e9"
      },
      "execution_count": 11,
      "outputs": [
        {
          "output_type": "execute_result",
          "data": {
            "text/plain": [
              "<matplotlib.lines.Line2D at 0x7f8a54fa2f20>"
            ]
          },
          "metadata": {},
          "execution_count": 11
        },
        {
          "output_type": "display_data",
          "data": {
            "text/plain": [
              "<Figure size 640x480 with 1 Axes>"
            ],
            "image/png": "[encoded data removed]"
          },
          "metadata": {}
        }
      ]
    },
    {
      "cell_type": "code",
      "source": [
        "# Ingreso de los alores iniciales\n",
        "P0=1 #valor inicial\n",
        "Tol=10**(-2) #tolerancia\n",
        "Nmax=100 #numero maximo de intterracciones\n",
        "error = 100  # Inicializamos un error grande\n",
        "niter = 0  # Inicializamos el contador de iteraciones"
      ],
      "metadata": {
        "id": "lopjz6UDaLQ_"
      },
      "execution_count": 9,
      "outputs": []
    },
    {
      "cell_type": "code",
      "source": [
        "# Ciclo iterativo de punto fijo\n",
        "print(\"# iter\\t\\t Pn \\t\\t g(Pn) \\t\\t error\") #Imprime los encabezados de las columnas para mostrar la iteración actual,\n",
        "\n",
        "while error > Tol and niter < Nmax: # Este ciclo se ejecuta mientras el error sea mayor que un valor de tolerancia\n",
        "\n",
        "    Pn = g(P0)#Evalúa la función 𝑔 en el punto actual 𝑃0\n",
        "\n",
        "    error = abs(Pn - P0) #Calcula el error como la diferencia absoluta entre el nuevo valor 𝑃𝑛 y el anterior 𝑃0\n",
        "\n",
        "    # Imprimir los resultados en cada iteración\n",
        "    print(\"{0} \\t\\t {1:6.6f} \\t {2:6.6f} \\t {3:6.6f}\".format(niter, P0, Pn, error))\n",
        "\n",
        "    #Actualiza el valor de 𝑃0 al nuevo valor P𝑛 y aumenta el contador de iteraciones.\n",
        "    P0 = Pn\n",
        "    niter += 1\n",
        "\n",
        "#imprime el resultado final, mostrando la solución aproximada 𝑃 y el error asociado.\n",
        "print(\"La solución exacta utilizando el método de punto fijo es P = {0:6.6f} con un error de {1:6.6f}\".format(P0, error))"
      ],
      "metadata": {
        "colab": {
          "base_uri": "https://localhost:8080/"
        },
        "id": "23vDyffkapUh",
        "outputId": "8b7250e8-08f4-4741-9fa0-9223159343df"
      },
      "execution_count": 10,
      "outputs": [
        {
          "output_type": "stream",
          "name": "stdout",
          "text": [
            "# iter\t\t Pn \t\t g(Pn) \t\t error\n",
            "0 \t\t 1.000000 \t 1.259921 \t 0.259921\n",
            "1 \t\t 1.259921 \t 1.312294 \t 0.052373\n",
            "2 \t\t 1.312294 \t 1.322354 \t 0.010060\n",
            "3 \t\t 1.322354 \t 1.324269 \t 0.001915\n",
            "La solución exacta utilizando el método de punto fijo es P = 1.324269 con un error de 0.001915\n"
          ]
        }
      ]
    }
  ]
}