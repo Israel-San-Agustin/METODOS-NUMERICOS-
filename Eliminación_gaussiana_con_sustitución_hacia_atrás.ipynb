{
  "nbformat": 4,
  "nbformat_minor": 0,
  "metadata": {
    "colab": {
      "provenance": [],
      "authorship_tag": "ABX9TyNAaF9jvHwGDChw/AcQJQJv",
      "include_colab_link": true
    },
    "kernelspec": {
      "name": "python3",
      "display_name": "Python 3"
    },
    "language_info": {
      "name": "python"
    }
  },
  "cells": [
    {
      "cell_type": "markdown",
      "metadata": {
        "id": "view-in-github",
        "colab_type": "text"
      },
      "source": [
        "<a href=\"https://colab.research.google.com/github/Israel-San-Agustin/METODOS-NUMERICOS-/blob/main/Eliminaci%C3%B3n_gaussiana_con_sustituci%C3%B3n_hacia_atr%C3%A1s.ipynb\" target=\"_parent\"><img src=\"https://colab.research.google.com/assets/colab-badge.svg\" alt=\"Open In Colab\"/></a>"
      ]
    },
    {
      "cell_type": "markdown",
      "source": [
        "# Eliminación gaussiana"
      ],
      "metadata": {
        "id": "SEOb10zN_tCF"
      }
    },
    {
      "cell_type": "code",
      "source": [
        "import numpy as np\n",
        "\n",
        "def eliminacion_gaussiana(A, b):\n",
        "\n",
        "    # Combinar A y b en una matriz aumentada\n",
        "    n = len(b)\n",
        "    augmented_matrix = np.hstack((A, b.reshape(-1, 1)))\n",
        "\n",
        "    # Proceso de eliminación\n",
        "    for i in range(n):\n",
        "        # Encontrar el pivote\n",
        "        pivot_row = np.argmax(abs(augmented_matrix[i:n, i])) + i\n",
        "        if augmented_matrix[pivot_row, i] == 0:\n",
        "            return \"El sistema no tiene solución única\"\n",
        "\n",
        "        # Intercambiar filas si es necesario\n",
        "        if pivot_row != i:\n",
        "            augmented_matrix[[i, pivot_row]] = augmented_matrix[[pivot_row, i]]\n",
        "\n",
        "        # Escalonar las filas\n",
        "        for j in range(i + 1, n):\n",
        "            factor = augmented_matrix[j, i] / augmented_matrix[i, i]\n",
        "            augmented_matrix[j, i:] -= factor * augmented_matrix[i, i:]\n",
        "\n",
        "    # Sustitución hacia atrás\n",
        "    x = np.zeros(n)\n",
        "    for i in range(n - 1, -1, -1):\n",
        "        if augmented_matrix[i, i] == 0:\n",
        "            return \"El sistema no tiene solución única\"\n",
        "        x[i] = (augmented_matrix[i, -1] - np.dot(augmented_matrix[i, i + 1:n], x[i + 1:n])) / augmented_matrix[i, i]\n",
        "\n",
        "    return x\n",
        "\n",
        "# Función para imprimir los resultados en el formato deseado\n",
        "def print_solution(solution):\n",
        "    if isinstance(solution, str):\n",
        "        print(solution)\n",
        "    else:\n",
        "        for i, value in enumerate(solution, start=1):\n",
        "            print(f\"x{i} = {value:.4f}\")\n",
        "\n",
        "# Ejemplo de uso\n",
        "A = np.array([[1, -1, 2, -1], [2, -2, 3, -3], [1, 1, 1, 0], [1, -1, 4, 3]], dtype=float)\n",
        "b = np.array([-8, -20, -2, 4], dtype=float)\n",
        "resultado = eliminacion_gaussiana(A, b)\n",
        "print_solution(resultado)"
      ],
      "metadata": {
        "colab": {
          "base_uri": "https://localhost:8080/"
        },
        "id": "RvwZW87jNNxn",
        "outputId": "fe547d43-cec3-42e7-ee19-85ba4d140947"
      },
      "execution_count": 10,
      "outputs": [
        {
          "output_type": "stream",
          "name": "stdout",
          "text": [
            "x1 = -7.0000\n",
            "x2 = 3.0000\n",
            "x3 = 2.0000\n",
            "x4 = 2.0000\n"
          ]
        }
      ]
    }
  ]
}