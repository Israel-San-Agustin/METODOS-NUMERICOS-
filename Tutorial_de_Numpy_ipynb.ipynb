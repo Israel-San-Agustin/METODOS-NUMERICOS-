{
  "nbformat": 4,
  "nbformat_minor": 0,
  "metadata": {
    "colab": {
      "provenance": [],
      "authorship_tag": "ABX9TyO4WdypgLS5dGl5bYowMhnW",
      "include_colab_link": true
    },
    "kernelspec": {
      "name": "python3",
      "display_name": "Python 3"
    },
    "language_info": {
      "name": "python"
    }
  },
  "cells": [
    {
      "cell_type": "markdown",
      "metadata": {
        "id": "view-in-github",
        "colab_type": "text"
      },
      "source": [
        "<a href=\"https://colab.research.google.com/github/Israel-San-Agustin/METODOS-NUMERICOS-/blob/main/Tutorial_de_Numpy_ipynb.ipynb\" target=\"_parent\"><img src=\"https://colab.research.google.com/assets/colab-badge.svg\" alt=\"Open In Colab\"/></a>"
      ]
    },
    {
      "cell_type": "markdown",
      "source": [
        "# Librería Numpy"
      ],
      "metadata": {
        "id": "9IvJcxJonEYf"
      }
    },
    {
      "cell_type": "markdown",
      "source": [
        "La librería NumPy es una biblioteca en Python utilizada principalmente para el cálculo numérico y el manejo de datos en forma de arreglos o matrices. NumPy facilita trabajar con grandes cantidades de datos de manera eficiente al ofrecer estructuras y operaciones optimizadas, como los arrays multidimensionales (similares a las matrices en matemáticas) y una serie de funciones matemáticas rápidas."
      ],
      "metadata": {
        "id": "jM2XXaUNoQDA"
      }
    },
    {
      "cell_type": "markdown",
      "source": [
        "# ¿Para qué se usa NumPy?\n",
        "NumPy es ampliamente usada en áreas de ciencia de datos, machine learning, análisis de datos, y simulaciones científicas, ya que permite manipular datos de manera eficiente y realizar cálculos complejos con una sintaxis sencilla."
      ],
      "metadata": {
        "id": "_eHgUo8UZCKa"
      }
    },
    {
      "cell_type": "code",
      "execution_count": 2,
      "metadata": {
        "id": "FM2tDgAljN3G"
      },
      "outputs": [],
      "source": [
        "#importamos la libreria Numpy\n",
        "import numpy as np"
      ]
    },
    {
      "cell_type": "markdown",
      "source": [
        "Arreglos $(Arrays)$\n",
        "\n",
        "Los arrays son estructuras clave en NumPy. Son similares a las listas de Python, pero más eficientes y con mayor funcionalidad."
      ],
      "metadata": {
        "id": "B8028pt8fEE6"
      }
    },
    {
      "cell_type": "code",
      "source": [
        "# Crear un arreglo desde una lista\n",
        "a = np.array([1, 2, 3])\n",
        "print(a) #donde se imprime el arreglo a\n",
        "\n",
        "# Crear un arreglo 2D (matriz)\n",
        "b = np.array([[1, 2, 3], [4, 5, 6]])\n",
        "print(b) # donde se imprime el arreglo b"
      ],
      "metadata": {
        "colab": {
          "base_uri": "https://localhost:8080/"
        },
        "id": "o5ZNPQvgb892",
        "outputId": "f713c5f5-1a0e-4881-bd90-f44fc73097fd"
      },
      "execution_count": 3,
      "outputs": [
        {
          "output_type": "stream",
          "name": "stdout",
          "text": [
            "[1 2 3]\n",
            "[[1 2 3]\n",
            " [4 5 6]]\n"
          ]
        }
      ]
    },
    {
      "cell_type": "markdown",
      "source": [
        "Propiedades de los arreglos"
      ],
      "metadata": {
        "id": "C1CAZA9cxOMW"
      }
    },
    {
      "cell_type": "code",
      "source": [
        "print(a.shape)  # Tamaño del arreglo (3,)\n",
        "print(b.shape)  # Tamaño del arreglo (2, 3)\n",
        "print(a.ndim)   # Número de dimensiones (1)\n",
        "print(b.ndim)   # Número de dimensiones (2)"
      ],
      "metadata": {
        "colab": {
          "base_uri": "https://localhost:8080/"
        },
        "id": "6cLdR2GPxPrC",
        "outputId": "053a5472-de9a-45e0-a78b-8a61dbc2800e"
      },
      "execution_count": 4,
      "outputs": [
        {
          "output_type": "stream",
          "name": "stdout",
          "text": [
            "(3,)\n",
            "(2, 3)\n",
            "1\n",
            "2\n"
          ]
        }
      ]
    },
    {
      "cell_type": "markdown",
      "source": [
        "Arreglos Comunes\n",
        "\n",
        "NumPy proporciona funciones para crear arreglos predefinidos, útiles para inicializar arreglos rápidamente."
      ],
      "metadata": {
        "id": "TWfHRMxcxnJG"
      }
    },
    {
      "cell_type": "code",
      "source": [
        "# Arreglo de ceros\n",
        "zeros = np.zeros((2, 3))  # Matriz 2x3 de ceros\n",
        "\n",
        "# Arreglo de unos\n",
        "ones = np.ones((3, 3))  # Matriz 3x3 de unos\n",
        "\n",
        "# Arreglo vacío (valores indefinidos, más rápido que zeros y ones)\n",
        "empty = np.empty((2, 2))\n",
        "\n",
        "# Arreglo con rango\n",
        "rango = np.arange(10)    # 0 a 9\n",
        "paso = np.arange(0, 10, 2)  # 0, 2, 4, 6, 8\n",
        "\n",
        "# Arreglo con números igualmente espaciados\n",
        "espacio = np.linspace(0, 1, 5)  # 0.0, 0.25, 0.5, 0.75, 1.0\n",
        "\n",
        "print(zeros)\n",
        "print(ones)\n",
        "print(empty)\n",
        "print(rango)\n",
        "print(paso)\n",
        "print(espacio)\n"
      ],
      "metadata": {
        "colab": {
          "base_uri": "https://localhost:8080/"
        },
        "id": "azUCt8oRxrjS",
        "outputId": "f076de70-7498-458a-d72a-a66035a6ffc2"
      },
      "execution_count": 5,
      "outputs": [
        {
          "output_type": "stream",
          "name": "stdout",
          "text": [
            "[[0. 0. 0.]\n",
            " [0. 0. 0.]]\n",
            "[[1. 1. 1.]\n",
            " [1. 1. 1.]\n",
            " [1. 1. 1.]]\n",
            "[[5.04943414e-310 0.00000000e+000]\n",
            " [0.00000000e+000 1.38497710e+219]]\n",
            "[0 1 2 3 4 5 6 7 8 9]\n",
            "[0 2 4 6 8]\n",
            "[0.   0.25 0.5  0.75 1.  ]\n"
          ]
        }
      ]
    },
    {
      "cell_type": "markdown",
      "source": [
        "Operaciones Básicas con Arreglos\n",
        "\n",
        "NumPy permite hacer operaciones aritméticas de forma vectorizada, lo cual es rápido y directo."
      ],
      "metadata": {
        "id": "dzpS_jpLyhrd"
      }
    },
    {
      "cell_type": "code",
      "source": [
        "# Suma y resta\n",
        "a = np.array([1, 2, 3])\n",
        "b = np.array([4, 5, 6])\n",
        "print(a + b)\n",
        "print(a - b)\n",
        "\n",
        "# Multiplicación y división elemento a elemento\n",
        "print(a * b)\n",
        "print(a / b)\n",
        "\n",
        "# Potencias\n",
        "print(a ** 2)\n"
      ],
      "metadata": {
        "colab": {
          "base_uri": "https://localhost:8080/"
        },
        "id": "oLYk7u7Pyj2J",
        "outputId": "d5709c8a-2f0e-4f8f-ef54-c2e3e77a449b"
      },
      "execution_count": 6,
      "outputs": [
        {
          "output_type": "stream",
          "name": "stdout",
          "text": [
            "[5 7 9]\n",
            "[-3 -3 -3]\n",
            "[ 4 10 18]\n",
            "[0.25 0.4  0.5 ]\n",
            "[1 4 9]\n"
          ]
        }
      ]
    },
    {
      "cell_type": "markdown",
      "source": [
        "Funciones matemáticas\n",
        "\n",
        "NumPy incluye funciones como $np.sqrt(), np.exp(), np.sin(), np.cos(), etc.$"
      ],
      "metadata": {
        "id": "f5N_FaRCzbVw"
      }
    },
    {
      "cell_type": "code",
      "source": [
        "sqrt_a = np.sqrt(a)  # Raíz cuadrada"
      ],
      "metadata": {
        "id": "PxLu6FmxzuKA"
      },
      "execution_count": 7,
      "outputs": []
    },
    {
      "cell_type": "code",
      "source": [
        "# Raíz cuadrada\n",
        "print(np.sqrt(a))  # [1. 1.41421356 1.73205081]\n",
        "\n",
        "# Seno y coseno\n",
        "print(np.sin(a))  # Seno de cada elemento de 'a'\n",
        "print(np.cos(a))  # Coseno de cada elemento de 'a'\n",
        "\n",
        "# Exponencial y logaritmo\n",
        "print(np.exp(a))  # [2.71828183 7.3890561  20.08553692]\n",
        "print(np.log(a))  # [0.         0.69314718 1.09861229]\n"
      ],
      "metadata": {
        "colab": {
          "base_uri": "https://localhost:8080/"
        },
        "id": "a6CAYFOqz7_x",
        "outputId": "4e49a8a8-53bd-47d7-d117-c08f7f1e0274"
      },
      "execution_count": 8,
      "outputs": [
        {
          "output_type": "stream",
          "name": "stdout",
          "text": [
            "[1.         1.41421356 1.73205081]\n",
            "[0.84147098 0.90929743 0.14112001]\n",
            "[ 0.54030231 -0.41614684 -0.9899925 ]\n",
            "[ 2.71828183  7.3890561  20.08553692]\n",
            "[0.         0.69314718 1.09861229]\n"
          ]
        }
      ]
    },
    {
      "cell_type": "markdown",
      "source": [
        "Álgebra Lineal\n",
        "\n",
        "NumPy tiene funciones para álgebra lineal, que pueden ser muy útiles si trabajas con matrices."
      ],
      "metadata": {
        "id": "1AqUWdZ41xb1"
      }
    },
    {
      "cell_type": "code",
      "source": [
        "# Producto punto (dot product)\n",
        "a = np.array([[1, 2], [3, 4]])\n",
        "b = np.array([[5, 6], [7, 8]])\n",
        "print(np.dot(a, b)) # Imprime la operacion entre las dos matrices\n",
        "\n",
        "\n",
        "# Transpuesta\n",
        "print(a.T)\n",
        "# Donde imprime el valor de la transpuesta de a\n",
        "\n",
        "# Transpuesta\n",
        "print(b.T)\n",
        "# Donde imprime el valor de la transpuesta de b\n"
      ],
      "metadata": {
        "colab": {
          "base_uri": "https://localhost:8080/"
        },
        "id": "T8oR8uCD2BUb",
        "outputId": "4b8c24fa-e570-4c1e-c809-ad44a66eaba3"
      },
      "execution_count": 9,
      "outputs": [
        {
          "output_type": "stream",
          "name": "stdout",
          "text": [
            "[[19 22]\n",
            " [43 50]]\n",
            "[[1 3]\n",
            " [2 4]]\n",
            "[[5 7]\n",
            " [6 8]]\n"
          ]
        }
      ]
    },
    {
      "cell_type": "markdown",
      "source": [
        "Indexación y Slicing\n",
        "\n",
        "Indexación\n",
        "\n",
        "Permite obtener elementos individuales de una secuencia. La indexación se basa en el número de índice o posición del elemento, y comienza en 0. Por ejemplo, el primer elemento de una secuencia tiene un índice de 0, el segundo de 1, y así sucesivamente.\n",
        "\n",
        "Slicing\n",
        "\n",
        "Permite extraer elementos de una secuencia, que pueden ser consecutivos o estar separados. La segmentación de cadenas se realiza con la sintaxis string[start:stop:step]. Esta sintaxis permite seleccionar caracteres desde el índice inicial hasta el índice final, sin incluirlo, con un paso opcional para omitir caracteres"
      ],
      "metadata": {
        "id": "R6dh4ckH2eq4"
      }
    },
    {
      "cell_type": "code",
      "source": [
        "a = np.array([[1, 2, 3], [4, 5, 6], [7, 8, 9]])\n",
        "print(a[0, 0])  # Primer elemento (1)\n",
        "print(a[0:2, 1:3])\n",
        "# imprime el array\n"
      ],
      "metadata": {
        "colab": {
          "base_uri": "https://localhost:8080/"
        },
        "id": "zrvX6nWq3Dg6",
        "outputId": "0bf81d7e-dbb7-469d-be06-61b255fb7248"
      },
      "execution_count": 10,
      "outputs": [
        {
          "output_type": "stream",
          "name": "stdout",
          "text": [
            "1\n",
            "[[2 3]\n",
            " [5 6]]\n"
          ]
        }
      ]
    },
    {
      "cell_type": "markdown",
      "source": [
        "Funciones de Estadística\n",
        "\n",
        "NumPy ofrece muchas funciones de estadística sobre arreglos."
      ],
      "metadata": {
        "id": "kFRf88KM5Ot1"
      }
    },
    {
      "cell_type": "code",
      "source": [
        "a = np.array([1, 2, 3, 4, 5])\n",
        "\n",
        "print(np.mean(a))  # Media\n",
        "print(np.std(a))   # Desviación estándar\n",
        "print(np.var(a))   # Varianza\n",
        "print(np.sum(a))   # Suma de todos los elementos\n",
        "print(np.min(a))   # Mínimo\n",
        "print(np.max(a))   # Máximo\n"
      ],
      "metadata": {
        "colab": {
          "base_uri": "https://localhost:8080/"
        },
        "id": "tZP3e6JO5QnS",
        "outputId": "270633b6-5f54-4764-98e5-e232a78088b9"
      },
      "execution_count": 11,
      "outputs": [
        {
          "output_type": "stream",
          "name": "stdout",
          "text": [
            "3.0\n",
            "1.4142135623730951\n",
            "2.0\n",
            "15\n",
            "1\n",
            "5\n"
          ]
        }
      ]
    },
    {
      "cell_type": "markdown",
      "source": [
        "Manejo de Errores y Condiciones"
      ],
      "metadata": {
        "id": "4DWvllWA6OeJ"
      }
    },
    {
      "cell_type": "code",
      "source": [
        "a = np.array([1, 2, 3, 4, 5])\n",
        "\n",
        "# Condición: seleccionar elementos mayores que 3\n",
        "print(a[a > 3])  # [4 5]\n",
        "\n",
        "# Asignar valor condicionalmente\n",
        "a[a > 3] = 0\n",
        "print(a)  # [1 2 3 0 0]\n"
      ],
      "metadata": {
        "colab": {
          "base_uri": "https://localhost:8080/"
        },
        "id": "nmV0Mk5g6Ptf",
        "outputId": "c1fd2bed-236e-4965-8873-3952d80a8863"
      },
      "execution_count": 12,
      "outputs": [
        {
          "output_type": "stream",
          "name": "stdout",
          "text": [
            "[4 5]\n",
            "[1 2 3 0 0]\n"
          ]
        }
      ]
    },
    {
      "cell_type": "markdown",
      "source": [
        "Ejemplo"
      ],
      "metadata": {
        "id": "6R2srBXA66WQ"
      }
    },
    {
      "cell_type": "code",
      "source": [
        "# Creamos un arreglo de números\n",
        "numeros = np.array([1, 2, 3, 4, 5])\n",
        "\n",
        "# Calculamos la suma de los elementos\n",
        "suma = np.sum(numeros)\n",
        "print(\"Suma de los elementos:\", suma)\n",
        "\n",
        "# Calculamos la media (promedio) de los elementos\n",
        "media = np.mean(numeros)\n",
        "print(\"Media de los elementos:\", media)\n"
      ],
      "metadata": {
        "colab": {
          "base_uri": "https://localhost:8080/"
        },
        "id": "NveWe76Q6_AA",
        "outputId": "b142de6a-86da-4968-c9ef-3d9a41af74ef"
      },
      "execution_count": 13,
      "outputs": [
        {
          "output_type": "stream",
          "name": "stdout",
          "text": [
            "Suma de los elementos: 15\n",
            "Media de los elementos: 3.0\n"
          ]
        }
      ]
    }
  ]
}