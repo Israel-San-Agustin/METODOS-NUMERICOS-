{
  "nbformat": 4,
  "nbformat_minor": 0,
  "metadata": {
    "colab": {
      "provenance": [],
      "authorship_tag": "ABX9TyN57kBAab+e96cYtnF5c5L0",
      "include_colab_link": true
    },
    "kernelspec": {
      "name": "python3",
      "display_name": "Python 3"
    },
    "language_info": {
      "name": "python"
    }
  },
  "cells": [
    {
      "cell_type": "markdown",
      "metadata": {
        "id": "view-in-github",
        "colab_type": "text"
      },
      "source": [
        "<a href=\"https://colab.research.google.com/github/Israel-San-Agustin/METODOS-NUMERICOS-/blob/main/Eliminaci%C3%B3n_gaussiana_con_pivoteo_parcial_escalado.ipynb\" target=\"_parent\"><img src=\"https://colab.research.google.com/assets/colab-badge.svg\" alt=\"Open In Colab\"/></a>"
      ]
    },
    {
      "cell_type": "markdown",
      "source": [
        "\n",
        "# Pivoteo parcial escalado"
      ],
      "metadata": {
        "id": "t6qD3LFTTJ3T"
      }
    },
    {
      "cell_type": "code",
      "execution_count": 27,
      "metadata": {
        "id": "xZffYJDsRNr4"
      },
      "outputs": [],
      "source": [
        "import numpy as np"
      ]
    },
    {
      "cell_type": "code",
      "source": [
        "   def pivoteo_parcial_escalado(A, b):\n",
        "\n",
        "   # Paso 0: Verificar dimensiones de las matrices\n",
        "    n = len(A)\n",
        "    A = A.astype(float)\n",
        "    b = b.astype(float)\n",
        "\n",
        "    # Paso 1: Inicializar los factores de escala y el índice de renglones\n",
        "    s = np.max(np.abs(A), axis=1)\n",
        "    if np.any(s == 0):\n",
        "        raise ValueError(\"No existe solución única (factor de escala s_i = 0).\")\n",
        "\n",
        "    NROW = np.arange(n)\n",
        "\n",
        "      # Paso 2: Proceso de eliminación\n",
        "    for i in range(n - 1):\n",
        "        # Paso 3: Determinar el pivote escalado\n",
        "        ratios = np.abs(A[NROW[i:], i]) / s[NROW[i:]]\n",
        "        p = i + np.argmax(ratios)\n",
        "\n",
        "# Intercambiar renglones en NROW\n",
        "        if i != p:\n",
        "            NROW[i], NROW[p] = NROW[p], NROW[i]\n",
        "\n",
        "        # Eliminación gaussiana\n",
        "        for j in range(i + 1, n):\n",
        "            m = A[NROW[j], i] / A[NROW[i], i]\n",
        "            A[NROW[j], i:] -= m * A[NROW[i], i:]\n",
        "            b[NROW[j]] -= m * b[NROW[i]]\n",
        "\n",
        "    # Paso 4: Sustitución hacia atrás\n",
        "    x = np.zeros(n)\n",
        "    for i in range(n - 1, -1, -1):\n",
        "        x[i] = (b[NROW[i]] - np.dot(A[NROW[i], i + 1:], x[i + 1:])) / A[NROW[i], i]\n",
        "\n",
        "    return x\n",
        ""
      ],
      "metadata": {
        "id": "Ge9ChpnDe2h9"
      },
      "execution_count": 32,
      "outputs": []
    },
    {
      "cell_type": "code",
      "source": [
        "#usando el ejemplo 3 del libro\n",
        "if __name__ == \"__main__\":\n",
        "    # Matriz de coeficientes\n",
        "    A = np.array([\n",
        "        [2.11, -4.21, 0.921],\n",
        "        [4.01, 10.2, -1.12],\n",
        "        [1.09, 0.987, 0.832]\n",
        "    ])\n",
        "\n",
        "    # Vector de términos independientes\n",
        "    b = np.array([2.01, -3.09, 4.21])\n",
        "\n",
        "    # Resolver el sistema\n",
        "    x = pivoteo_parcial_escalado(A, b)  # Llamada a la función pivoteo_parcial_escalado\n",
        "\n",
        "    # Imprimir la solución\n",
        "    print(\"Solución del sistema:\", x)"
      ],
      "metadata": {
        "colab": {
          "base_uri": "https://localhost:8080/"
        },
        "id": "kVbxvbfQfDUf",
        "outputId": "a424258b-cc5a-424a-b0af-d209e6818e91"
      },
      "execution_count": 34,
      "outputs": [
        {
          "output_type": "stream",
          "name": "stdout",
          "text": [
            "Solución del sistema: [-0.42800441  0.42690323  5.11438861]\n"
          ]
        }
      ]
    }
  ]
}